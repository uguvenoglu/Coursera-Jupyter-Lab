{
 "cells": [
  {
   "cell_type": "markdown",
   "id": "f7921108-3420-4086-9d1b-8e76eebd215a",
   "metadata": {},
   "source": [
    "# Data Science Tools and Ecosystem"
   ]
  },
  {
   "cell_type": "markdown",
   "id": "acd2e2ec-49b0-4822-80ab-1d900cd8adbe",
   "metadata": {},
   "source": [
    "In this notebook, Data Science Tools and Ecosystem are summarized."
   ]
  },
  {
   "cell_type": "markdown",
   "id": "249c34f7-6c09-403c-a12e-c6f7ea165e69",
   "metadata": {},
   "source": [
    "Some of the popular languages that Data Scientists use are:"
   ]
  },
  {
   "cell_type": "markdown",
   "id": "847f2797-0809-4236-ac87-9ccbbe773150",
   "metadata": {},
   "source": [
    "1. Python\n",
    "2. R\n",
    "3. SQL\n",
    "4. C++ etc..."
   ]
  },
  {
   "cell_type": "markdown",
   "id": "ca9d7fd0-db1d-4740-a26f-b1383cf66cd9",
   "metadata": {},
   "source": [
    "Some of the commonly used libraries used by Data Scientists include:\n",
    "1. TensorFlow\n",
    "2. NumPy\n",
    "3. SciPy\n",
    "4. Keras\n",
    "5. Matplotlib.\n",
    "6. Pandas etc...\n"
   ]
  },
  {
   "cell_type": "markdown",
   "id": "9e9ae4f9-f5c2-49c0-bbe2-419cbad565f3",
   "metadata": {},
   "source": [
    "|Data Science Tools|\n",
    "|---|\n",
    "|TensorFlow|\n",
    "|SAS|\n",
    "|Apache Hadoop|\n"
   ]
  },
  {
   "cell_type": "markdown",
   "id": "13a867c7-ce7e-4c63-99c9-32d93f48822e",
   "metadata": {},
   "source": [
    "### Below are a few examples of evaluating arithmetic expressions in Python"
   ]
  },
  {
   "cell_type": "code",
   "execution_count": 3,
   "id": "8d09393c-4d7c-4e9f-86ed-be83b24a0109",
   "metadata": {},
   "outputs": [
    {
     "data": {
      "text/plain": [
       "17"
      ]
     },
     "execution_count": 3,
     "metadata": {},
     "output_type": "execute_result"
    }
   ],
   "source": [
    "#This a simple arithmetic expression to mutiply then add integers\n",
    "(3*4)+5"
   ]
  },
  {
   "cell_type": "code",
   "execution_count": 4,
   "id": "56e33538-ac40-45d1-a560-d6db5080c4b4",
   "metadata": {},
   "outputs": [
    {
     "data": {
      "text/plain": [
       "3.3333333333333335"
      ]
     },
     "execution_count": 4,
     "metadata": {},
     "output_type": "execute_result"
    }
   ],
   "source": [
    "#This will convert 200 minutes to hours by diving by 60\n",
    "200/60"
   ]
  },
  {
   "cell_type": "markdown",
   "id": "8a759f52-1846-470c-a086-5ad8b5a692d0",
   "metadata": {},
   "source": [
    "__Objective__\n",
    "* List popular languages for Data Science\n",
    "* List popular libraries for Data Science\n",
    "* List of well known Data Science Tools "
   ]
  },
  {
   "cell_type": "markdown",
   "id": "63c76264-36de-4b48-b37a-46382a44880c",
   "metadata": {},
   "source": [
    "## Author\n",
    "Umut GÜVENOĞLU "
   ]
  },
  {
   "cell_type": "code",
   "execution_count": null,
   "id": "1c5d0b30-76f7-4e04-998b-c5655e429dc9",
   "metadata": {},
   "outputs": [],
   "source": []
  }
 ],
 "metadata": {
  "kernelspec": {
   "display_name": "Python 3 (ipykernel)",
   "language": "python",
   "name": "python3"
  },
  "language_info": {
   "codemirror_mode": {
    "name": "ipython",
    "version": 3
   },
   "file_extension": ".py",
   "mimetype": "text/x-python",
   "name": "python",
   "nbconvert_exporter": "python",
   "pygments_lexer": "ipython3",
   "version": "3.12.4"
  }
 },
 "nbformat": 4,
 "nbformat_minor": 5
}
